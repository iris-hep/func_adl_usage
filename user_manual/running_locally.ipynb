{
 "cells": [
  {
   "cell_type": "markdown",
   "metadata": {},
   "source": [
    "(ch-running-locally)=\n",
    "\n",
    "# Running Locally\n",
    "\n",
    "How to run the various back ends locally rather than on ServiceX. Likely at this point this is some short examples just showing how things work."
   ]
  },
  {
   "cell_type": "markdown",
   "metadata": {},
   "source": [
    "## UpROOT"
   ]
  },
  {
   "cell_type": "markdown",
   "metadata": {},
   "source": [
    "## ATLAS R21 xAOD"
   ]
  },
  {
   "cell_type": "markdown",
   "metadata": {},
   "source": [
    "## CMS Run 1 AOD"
   ]
  }
 ],
 "metadata": {
  "kernelspec": {
   "display_name": "Python 3.10.8 ('.venv': venv)",
   "language": "python",
   "name": "python3"
  },
  "language_info": {
   "name": "python",
   "version": "3.10.8"
  },
  "orig_nbformat": 4,
  "vscode": {
   "interpreter": {
    "hash": "98156eabec37c9c81e3a2d038350e1f4034f201ef67e099d2f4a79bfc763070e"
   }
  }
 },
 "nbformat": 4,
 "nbformat_minor": 2
}
