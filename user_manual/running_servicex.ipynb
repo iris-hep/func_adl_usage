{
 "cells": [
  {
   "cell_type": "markdown",
   "metadata": {},
   "source": [
    "# Running on ServiceX\n",
    "\n",
    "Some short examples at this point.\n",
    "\n",
    "If you disconnect from the internet in the middle of a query execution, it will continue to execute inside ServiceX. You can then re-run the query, and the software should realize it was interupted, and fetch the results from the query you already made."
   ]
  },
  {
   "cell_type": "code",
   "execution_count": null,
   "metadata": {},
   "outputs": [],
   "source": [
    "from func_adl import ObjectStream\n",
    "from config import ds_xaod"
   ]
  },
  {
   "cell_type": "markdown",
   "metadata": {},
   "source": [
    "## UpROOT"
   ]
  },
  {
   "cell_type": "markdown",
   "metadata": {},
   "source": [
    "Here is a very simple query based on the uproot backend, using ServiceX as the target:"
   ]
  },
  {
   "cell_type": "code",
   "execution_count": 2,
   "metadata": {},
   "outputs": [
    {
     "data": {
      "application/vnd.jupyter.widget-view+json": {
       "model_id": "73dc90504c98456a8f373a9f187500eb",
       "version_major": 2,
       "version_minor": 0
      },
      "text/plain": [
       "user.kchoi:user.kcho...:   0%|          | 0/9000000000.0 [00:00]"
      ]
     },
     "metadata": {},
     "output_type": "display_data"
    },
    {
     "data": {
      "application/vnd.jupyter.widget-view+json": {
       "model_id": "80b9946d31f448e6b23b9390efc47aaa",
       "version_major": 2,
       "version_minor": 0
      },
      "text/plain": [
       "        user.kchoi:user.kcho... Downloaded:   0%|          | 0/9000000000.0 [00:00]"
      ]
     },
     "metadata": {},
     "output_type": "display_data"
    },
    {
     "name": "stdout",
     "output_type": "stream",
     "text": [
      "                 M101\n",
      "0            0.000000\n",
      "1       197345.343750\n",
      "2       205475.250000\n",
      "3            0.000000\n",
      "4       136593.234375\n",
      "...               ...\n",
      "257059  303052.437500\n",
      "257060       0.000000\n",
      "257061  133332.531250\n",
      "257062       0.000000\n",
      "257063  110212.789062\n",
      "\n",
      "[257064 rows x 1 columns]\n"
     ]
    }
   ],
   "source": [
    "import pandas as pd\n",
    "from func_adl_servicex import ServiceXSourceUpROOT\n",
    "\n",
    "dataset_name = \"data15_13TeV:data15_13TeV.00282784.physics_Main.deriv.DAOD_PHYSLITE.r13286_p4910_p5226\"\n",
    "dataset_name = \"user.kchoi:user.kchoi.ttHML_80fb_ttH\"\n",
    "# src = ServiceXSourceUpROOT(dataset_name, \"CollectionTree\")\n",
    "# data = src.Select(\"lambda e: {'JetPT': e['AnalysisJetsAuxDyn.pt']}\") \\\n",
    "#     .AsParquetFiles('junk.parquet') \\\n",
    "#     .value()\n",
    "src = ServiceXSourceUpROOT(dataset_name, \"nominal\")\n",
    "data = src.Select(\"lambda e: {'M101': e['Mlll012']}\") \\\n",
    "    .AsParquetFiles('junk.parquet') \\\n",
    "    .value()\n",
    "df = pd.read_parquet(data[0])\n",
    "print(df)"
   ]
  },
  {
   "cell_type": "code",
   "execution_count": 9,
   "metadata": {},
   "outputs": [
    {
     "data": {
      "text/plain": [
       "<Array [{run: 1, ... ] type='349 * {\"run\": uint32, \"luminosityBlock\": uint32, \"e...'>"
      ]
     },
     "execution_count": 9,
     "metadata": {},
     "output_type": "execute_result"
    }
   ],
   "source": [
    "from func_adl_servicex import ServiceXSourceUpROOT\n",
    "dataset_name = [\"https://xrootd-local.unl.edu:1094//store/user/AGC/nanoAOD/nanoaod15.root\"]\n",
    "import servicex\n",
    "sx_dataset = servicex.ServiceXDataset(dataset_name, \"uproot\")\n",
    "ds = ServiceXSourceUpROOT(sx_dataset, \"Events\")\n",
    "data = ds.value()\n",
    "assert len(data) == 1\n",
    "import awkward as ak\n",
    "d = ak.from_parquet(data[0])\n",
    "d"
   ]
  },
  {
   "cell_type": "markdown",
   "metadata": {},
   "source": [
    "## ATLAS R21 XAOD"
   ]
  },
  {
   "cell_type": "markdown",
   "metadata": {},
   "source": [
    "## CMS Run 1 AOD"
   ]
  },
  {
   "cell_type": "markdown",
   "metadata": {},
   "source": [
    "## Common Features\n",
    "\n",
    "There are a few things that are common to running on the `ServiceX` backend. Most, but not all, of these are a function of the front-end library. When using `func_adl` direct access to this library is mostly hidden.\n",
    "\n",
    "* [Introduction to the `servicex` library and the up-to-date details.](https://github.com/ssl-hep/ServiceX_frontend)\n",
    "* [Releases](https://github.com/ssl-hep/ServiceX_frontend/releases) of the library, which should give you an idea of what has changed most recently.\n",
    "* See the [chapter on the frontend `servicex` library's features](ch-controlling-sx)."
   ]
  },
  {
   "cell_type": "markdown",
   "metadata": {},
   "source": [
    "## `ServiceX` Dashboard\n",
    "\n",
    "Lets start with the dashboard, which is not part of the front-end library. Rather, it is one of the pages served from the service itself. Here is a typical picture while a query is running: "
   ]
  },
  {
   "cell_type": "markdown",
   "metadata": {},
   "source": [
    "## Query Title\n",
    "\n",
    "It is possible to add a title to your query. The title will appear on the `ServiceX` dashboard (the dash board is very common) - and is used no where else. This simply makes life easier if your code ends up running 20 or 30 queries to tell each one apart. The query is added to the `title` parameter of `value` method:"
   ]
  },
  {
   "cell_type": "code",
   "execution_count": null,
   "metadata": {},
   "outputs": [],
   "source": [
    "help(ObjectStream.value)"
   ]
  },
  {
   "cell_type": "markdown",
   "metadata": {},
   "source": [
    "Note that the `value` and `value_async` have the same signature. See the [`async` ServiceX](sec-async) section for more information about the `async` API.\n",
    "\n",
    "Here is what the actual query looks like and how it shows up on the ServiceX Dashboard:"
   ]
  },
  {
   "cell_type": "code",
   "execution_count": null,
   "metadata": {},
   "outputs": [],
   "source": [
    "v_jets = (ds_xaod\n",
    "          .Select(lambda e: e.Jets())\n",
    "          .Select(lambda jets: [j for j in jets if j.pt()/1000.0 > 30])\n",
    "          .Select(lambda jets: {\n",
    "              'pt': [j.pt()/1000.0 for j in jets],\n",
    "          })\n",
    "          .AsAwkwardArray()\n",
    "          .value(title=\"Test Job\")\n",
    ")"
   ]
  },
  {
   "cell_type": "markdown",
   "metadata": {},
   "source": [
    "While it is running the job name will be included in the marching ant's display:\n",
    "\n",
    "```{image} assets/notebook_title_job_running_status.png\n",
    ":alt: Notebook Marching Ants\n",
    ":width: 600px\n",
    ":align: center\n",
    "```\n",
    "\n",
    "And the dash board will also be labeled:\n",
    "\n",
    "```{image} assets/dashboard_with_title.png\n",
    ":alt: Dashboard with transform title\n",
    ":width: 600px\n",
    ":align: center\n",
    "```\n",
    "\n",
    "Unless you are on an open unauthenticated ServiceX instance, only you will be able to see the title (along with the sys-admins!)."
   ]
  }
 ],
 "metadata": {
  "kernelspec": {
   "display_name": "Python 3.10.8 ('.venv': venv)",
   "language": "python",
   "name": "python3"
  },
  "language_info": {
   "codemirror_mode": {
    "name": "ipython",
    "version": 3
   },
   "file_extension": ".py",
   "mimetype": "text/x-python",
   "name": "python",
   "nbconvert_exporter": "python",
   "pygments_lexer": "ipython3",
   "version": "3.10.8"
  },
  "orig_nbformat": 4,
  "vscode": {
   "interpreter": {
    "hash": "98156eabec37c9c81e3a2d038350e1f4034f201ef67e099d2f4a79bfc763070e"
   }
  }
 },
 "nbformat": 4,
 "nbformat_minor": 2
}
