{
 "cells": [
  {
   "cell_type": "markdown",
   "metadata": {},
   "source": [
    "# Running on ServiceX\n",
    "\n",
    "Some short examples at this point.\n",
    "\n",
    "If you disconnect from the internet in the middle of a query execution, it will continue to execute inside ServiceX. You can then re-run the query, and the software should realize it was interupted, and fetch the results from the query you already made."
   ]
  },
  {
   "cell_type": "code",
   "execution_count": 3,
   "metadata": {},
   "outputs": [],
   "source": [
    "from func_adl import ObjectStream\n",
    "from config import ds_xaod"
   ]
  },
  {
   "cell_type": "markdown",
   "metadata": {},
   "source": [
    "## UpROOT"
   ]
  },
  {
   "cell_type": "markdown",
   "metadata": {},
   "source": [
    "## ATLAS R21 XAOD"
   ]
  },
  {
   "cell_type": "markdown",
   "metadata": {},
   "source": [
    "## CMS Run 1 AOD"
   ]
  },
  {
   "cell_type": "markdown",
   "metadata": {},
   "source": [
    "## Common Features\n",
    "\n",
    "There are a few things that are common to running on the `ServiceX` backend. Most, but not all, of these are a function of the front-end library. When using `func_adl` direct access to this library is mostly hidden.\n",
    "\n",
    "* [Introduction to the `servicex` library and the up-to-date details.](https://github.com/ssl-hep/ServiceX_frontend)\n",
    "* [Releases](https://github.com/ssl-hep/ServiceX_frontend/releases) of the library, which should give you an idea of what has changed most recently.\n",
    "* See the [chapter on the frontend `servicex` library's features](ch-controlling-sx)."
   ]
  },
  {
   "cell_type": "markdown",
   "metadata": {},
   "source": [
    "## `ServiceX` Dashboard\n",
    "\n",
    "Lets start with the dashboard, which is not part of the front-end library. Rather, it is one of the pages served from the service itself. Here is a typical picture while a query is running: "
   ]
  },
  {
   "cell_type": "markdown",
   "metadata": {},
   "source": [
    "## Query Title\n",
    "\n",
    "It is possible to add a title to your query. The title will appear on the `ServiceX` dashboard (the dash board is very common) - and is used no where else. This simply makes life easier if your code ends up running 20 or 30 queries to tell each one apart. The query is added to the `title` parameter of `value` method:"
   ]
  },
  {
   "cell_type": "code",
   "execution_count": 2,
   "metadata": {},
   "outputs": [
    {
     "name": "stdout",
     "output_type": "stream",
     "text": [
      "Help on function value_async in module func_adl.object_stream:\n",
      "\n",
      "value_async(self, executor: 'Optional[Callable[[ast.AST, Optional[str]], Any]]' = None, title: 'Optional[str]' = None) -> 'Any'\n",
      "    Evaluate the ObjectStream computation graph. Tracks back to the source dataset to\n",
      "    understand how to evaluate the AST. It is possible to pass in an executor to override that\n",
      "    behavior (used mostly for testing).\n",
      "    \n",
      "    Arguments:\n",
      "    \n",
      "        executor        A function that when called with the ast will return a future for the\n",
      "                        result. If None, then uses the default executor. Normally is none\n",
      "                        and the default executor specified by the `EventDatasource` is called\n",
      "                        instead.\n",
      "        title           Optional title to hand to the transform\n",
      "    \n",
      "    Returns\n",
      "    \n",
      "        The first element of the ObjectStream after evaluation.\n",
      "    \n",
      "    \n",
      "    Note\n",
      "    \n",
      "        This is the non-blocking version - it will return a future which can\n",
      "        be `await`ed upon until the query is done.\n",
      "\n"
     ]
    }
   ],
   "source": [
    "help(ObjectStream.value)"
   ]
  },
  {
   "cell_type": "markdown",
   "metadata": {},
   "source": [
    "Note that the `value` and `value_async` have the same signature. See the [`async` ServiceX](sec-async) section for more information about the `async` API.\n",
    "\n",
    "Here is what the actual query looks like and how it shows up on the ServiceX Dashboard:"
   ]
  },
  {
   "cell_type": "code",
   "execution_count": 4,
   "metadata": {},
   "outputs": [
    {
     "data": {
      "application/vnd.jupyter.widget-view+json": {
       "model_id": "01b591193e414246bc138f2bb15c57c9",
       "version_major": 2,
       "version_minor": 0
      },
      "text/plain": [
       "Test Job:   0%|          | 0/9000000000.0 [00:00]"
      ]
     },
     "metadata": {},
     "output_type": "display_data"
    },
    {
     "data": {
      "application/vnd.jupyter.widget-view+json": {
       "model_id": "de880bae7fa242fda49cc17dcb419b7f",
       "version_major": 2,
       "version_minor": 0
      },
      "text/plain": [
       "        Test Job Downloaded:   0%|          | 0/9000000000.0 [00:00]"
      ]
     },
     "metadata": {},
     "output_type": "display_data"
    }
   ],
   "source": [
    "v_jets = (ds_xaod\n",
    "          .Select(lambda e: e.Jets())\n",
    "          .Select(lambda jets: [j for j in jets if j.pt()/1000.0 > 30])\n",
    "          .Select(lambda jets: {\n",
    "              'pt': [j.pt()/1000.0 for j in jets],\n",
    "          })\n",
    "          .AsAwkwardArray()\n",
    "          .value(title=\"Test Job\")\n",
    ")"
   ]
  },
  {
   "cell_type": "markdown",
   "metadata": {},
   "source": [
    "While it is running the job name will be included in the marching ant's display:\n",
    "\n",
    "```{image} assets/notebook_title_job_running_status.png\n",
    ":alt: Notebook Marching Ants\n",
    ":width: 600px\n",
    ":align: center\n",
    "```\n",
    "\n",
    "And the dash board will also be labeled:\n",
    "\n",
    "```{image} assets/dashboard_with_title.png\n",
    ":alt: Dashboard with transform title\n",
    ":width: 600px\n",
    ":align: center\n",
    "```\n",
    "\n",
    "Unless you are on an open unauthenticated ServiceX instance, only you will be able to see the title (along with the sys-admins!)."
   ]
  }
 ],
 "metadata": {
  "interpreter": {
   "hash": "5ba0cfa374d5f6f6f749d19195cab3148a9133d5633189784a95d3715bb14c5f"
  },
  "kernelspec": {
   "display_name": "Python 3.9.6 ('.venv': venv)",
   "language": "python",
   "name": "python3"
  },
  "language_info": {
   "codemirror_mode": {
    "name": "ipython",
    "version": 3
   },
   "file_extension": ".py",
   "mimetype": "text/x-python",
   "name": "python",
   "nbconvert_exporter": "python",
   "pygments_lexer": "ipython3",
   "version": "3.9.6"
  },
  "orig_nbformat": 4
 },
 "nbformat": 4,
 "nbformat_minor": 2
}
