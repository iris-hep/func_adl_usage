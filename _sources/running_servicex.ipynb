{
 "cells": [
  {
   "cell_type": "markdown",
   "metadata": {},
   "source": [
    "# Running on ServiceX\n",
    "\n",
    "Some short examples at this point.\n",
    "\n",
    "If you disconnect from the internet in the middle of a query execution, it will continue to execute inside ServiceX. You can then re-run the query, and the software should realize it was interupted, and fetch the results from the query you already made."
   ]
  },
  {
   "cell_type": "markdown",
   "metadata": {},
   "source": [
    "## UpROOT"
   ]
  },
  {
   "cell_type": "markdown",
   "metadata": {},
   "source": [
    "## ATLAS R21 XAOD"
   ]
  },
  {
   "cell_type": "markdown",
   "metadata": {},
   "source": [
    "## CMS Run 1 AOD"
   ]
  },
  {
   "cell_type": "markdown",
   "metadata": {},
   "source": []
  }
 ],
 "metadata": {
  "language_info": {
   "name": "python"
  },
  "orig_nbformat": 4
 },
 "nbformat": 4,
 "nbformat_minor": 2
}
